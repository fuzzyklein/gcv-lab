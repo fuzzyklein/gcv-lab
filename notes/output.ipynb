{
 "cells": [
  {
   "cell_type": "code",
   "execution_count": 5,
   "metadata": {},
   "outputs": [],
   "source": [
    "import logging\n",
    "import os\n",
    "from pathlib import Path"
   ]
  },
  {
   "cell_type": "code",
   "execution_count": 11,
   "metadata": {},
   "outputs": [
    {
     "data": {
      "text/plain": [
       "WindowsPath('C:/Users/owner/OneDrive/Documents/GitHub/gcv-lab/gcv')"
      ]
     },
     "execution_count": 11,
     "metadata": {},
     "output_type": "execute_result"
    }
   ],
   "source": [
    "BASEDIR = Path('../../gcv-lab/gcv').resolve()\n",
    "BASEDIR"
   ]
  },
  {
   "cell_type": "code",
   "execution_count": 12,
   "metadata": {},
   "outputs": [
    {
     "name": "stdout",
     "output_type": "stream",
     "text": [
      "LOGFILE=WindowsPath('C:/Users/owner/OneDrive/Documents/GitHub/gcv-lab/gcv/log/errors.log')\n",
      "BASEDIR=WindowsPath('C:/Users/owner/OneDrive/Documents/GitHub/gcv-lab/gcv')\n"
     ]
    }
   ],
   "source": [
    "LOGFILE = BASEDIR / 'log/errors.log'\n",
    "print(f\"{LOGFILE=}\")\n",
    "assert(BASEDIR.exists())\n",
    "print(f\"{BASEDIR=}\")\n",
    "if not LOGFILE.exists():\n",
    "    print(\"Log does not exist:\",f\"{LOGFILE}\")\n",
    "    LOGDIR = LOGFILE.parent\n",
    "    print(F\"{LOGDIR=}\")\n",
    "    if not LOGDIR.exists():\n",
    "        print(\"creating log directory:{LOGDIR}\")\n",
    "        LOGDIR.mkdir()\n",
    "    print(\"creating log file\")\n",
    "    LOGFILE.touch()\n",
    "    print('log file created')\n",
    "log_level = logging.DEBUG\n",
    "logging.basicConfig(filename=str(LOGFILE), level=log_level, filemode='w')\n",
    "log = logging.getLogger(\"root\")\n",
    "logging.captureWarnings(True)"
   ]
  },
  {
   "cell_type": "code",
   "execution_count": 13,
   "metadata": {},
   "outputs": [],
   "source": [
    "log.debug(' log entry by jupyter')"
   ]
  },
  {
   "cell_type": "code",
   "execution_count": 14,
   "metadata": {},
   "outputs": [
    {
     "data": {
      "text/plain": [
       "logging.Logger"
      ]
     },
     "execution_count": 14,
     "metadata": {},
     "output_type": "execute_result"
    }
   ],
   "source": [
    "type(log)"
   ]
  },
  {
   "cell_type": "code",
   "execution_count": 15,
   "metadata": {},
   "outputs": [
    {
     "data": {
      "text/plain": [
       "['addFilter',\n",
       " 'addHandler',\n",
       " 'callHandlers',\n",
       " 'critical',\n",
       " 'debug',\n",
       " 'disabled',\n",
       " 'error',\n",
       " 'exception',\n",
       " 'fatal',\n",
       " 'filter',\n",
       " 'filters',\n",
       " 'findCaller',\n",
       " 'getChild',\n",
       " 'getEffectiveLevel',\n",
       " 'handle',\n",
       " 'handlers',\n",
       " 'hasHandlers',\n",
       " 'info',\n",
       " 'isEnabledFor',\n",
       " 'level',\n",
       " 'log',\n",
       " 'makeRecord',\n",
       " 'manager',\n",
       " 'name',\n",
       " 'parent',\n",
       " 'propagate',\n",
       " 'removeFilter',\n",
       " 'removeHandler',\n",
       " 'root',\n",
       " 'setLevel',\n",
       " 'warn',\n",
       " 'warning']"
      ]
     },
     "execution_count": 15,
     "metadata": {},
     "output_type": "execute_result"
    }
   ],
   "source": [
    "[s for s in dir(log) if not s.startswith('_')]"
   ]
  },
  {
   "cell_type": "code",
   "execution_count": null,
   "metadata": {},
   "outputs": [],
   "source": []
  }
 ],
 "metadata": {
  "kernelspec": {
   "display_name": "Python 3",
   "language": "python",
   "name": "python3"
  },
  "language_info": {
   "codemirror_mode": {
    "name": "ipython",
    "version": 3
   },
   "file_extension": ".py",
   "mimetype": "text/x-python",
   "name": "python",
   "nbconvert_exporter": "python",
   "pygments_lexer": "ipython3",
   "version": "3.8.3"
  }
 },
 "nbformat": 4,
 "nbformat_minor": 4
}
