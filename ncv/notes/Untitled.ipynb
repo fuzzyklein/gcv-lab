{
 "cells": [
  {
   "cell_type": "code",
   "execution_count": 3,
   "metadata": {},
   "outputs": [],
   "source": [
    "import os"
   ]
  },
  {
   "cell_type": "code",
   "execution_count": 2,
   "metadata": {},
   "outputs": [
    {
     "data": {
      "text/plain": [
       "['arcs.ipynb',\n",
       " 'ncprogram.ipynb',\n",
       " 'points.ipynb',\n",
       " 'references.ipynb',\n",
       " 'spiral.ipynb',\n",
       " 'Untitled.ipynb']"
      ]
     },
     "execution_count": 2,
     "metadata": {},
     "output_type": "execute_result"
    }
   ],
   "source": [
    "[s for s in os.listdir() if not s.startswith('.')]"
   ]
  },
  {
   "cell_type": "code",
   "execution_count": 4,
   "metadata": {},
   "outputs": [],
   "source": [
    "os.chdir('../')"
   ]
  },
  {
   "cell_type": "code",
   "execution_count": 4,
   "metadata": {},
   "outputs": [
    {
     "data": {
      "text/plain": [
       "['cnc',\n",
       " 'data',\n",
       " 'etc',\n",
       " 'gcode',\n",
       " 'ggb',\n",
       " 'html',\n",
       " 'json',\n",
       " 'log',\n",
       " 'ncv',\n",
       " 'notes',\n",
       " 'png',\n",
       " 'run',\n",
       " 'setup.py',\n",
       " 'test',\n",
       " 'tests']"
      ]
     },
     "execution_count": 4,
     "metadata": {},
     "output_type": "execute_result"
    }
   ],
   "source": [
    "[s for s in os.listdir() if not s.startswith('.')]"
   ]
  },
  {
   "cell_type": "code",
   "execution_count": 5,
   "metadata": {},
   "outputs": [],
   "source": [
    "import sys"
   ]
  },
  {
   "cell_type": "code",
   "execution_count": 6,
   "metadata": {},
   "outputs": [
    {
     "data": {
      "text/plain": [
       "['C:\\\\Users\\\\owner\\\\source\\\\repos\\\\ncv\\\\notes',\n",
       " 'c:\\\\users\\\\owner\\\\appdata\\\\local\\\\programs\\\\python\\\\python38-32\\\\python38.zip',\n",
       " 'c:\\\\users\\\\owner\\\\appdata\\\\local\\\\programs\\\\python\\\\python38-32\\\\DLLs',\n",
       " 'c:\\\\users\\\\owner\\\\appdata\\\\local\\\\programs\\\\python\\\\python38-32\\\\lib',\n",
       " 'c:\\\\users\\\\owner\\\\appdata\\\\local\\\\programs\\\\python\\\\python38-32',\n",
       " '',\n",
       " 'c:\\\\users\\\\owner\\\\appdata\\\\local\\\\programs\\\\python\\\\python38-32\\\\lib\\\\site-packages',\n",
       " 'c:\\\\users\\\\owner\\\\appdata\\\\local\\\\programs\\\\python\\\\python38-32\\\\lib\\\\site-packages\\\\win32',\n",
       " 'c:\\\\users\\\\owner\\\\appdata\\\\local\\\\programs\\\\python\\\\python38-32\\\\lib\\\\site-packages\\\\win32\\\\lib',\n",
       " 'c:\\\\users\\\\owner\\\\appdata\\\\local\\\\programs\\\\python\\\\python38-32\\\\lib\\\\site-packages\\\\Pythonwin',\n",
       " 'c:\\\\users\\\\owner\\\\appdata\\\\local\\\\programs\\\\python\\\\python38-32\\\\lib\\\\site-packages\\\\IPython\\\\extensions',\n",
       " 'C:\\\\Users\\\\owner\\\\.ipython']"
      ]
     },
     "execution_count": 6,
     "metadata": {},
     "output_type": "execute_result"
    }
   ],
   "source": [
    "sys.path"
   ]
  },
  {
   "cell_type": "code",
   "execution_count": 8,
   "metadata": {},
   "outputs": [],
   "source": [
    "from pathlib import Path"
   ]
  },
  {
   "cell_type": "code",
   "execution_count": 12,
   "metadata": {},
   "outputs": [],
   "source": [
    "BASEDIR = Path(os.curdir).resolve()"
   ]
  },
  {
   "cell_type": "code",
   "execution_count": 13,
   "metadata": {},
   "outputs": [
    {
     "data": {
      "text/plain": [
       "WindowsPath('C:/Users/owner/source/repos/ncv')"
      ]
     },
     "execution_count": 13,
     "metadata": {},
     "output_type": "execute_result"
    }
   ],
   "source": [
    "BASEDIR"
   ]
  },
  {
   "cell_type": "code",
   "execution_count": 6,
   "metadata": {},
   "outputs": [],
   "source": [
    "import pickle"
   ]
  },
  {
   "cell_type": "code",
   "execution_count": 14,
   "metadata": {},
   "outputs": [],
   "source": [
    "os.mkdir('pkl')"
   ]
  },
  {
   "cell_type": "code",
   "execution_count": 25,
   "metadata": {},
   "outputs": [],
   "source": [
    "with open('pkl/path.pkl', 'wb') as f:\n",
    "    # Pickle the 'data' dictionary using the highest protocol available.\n",
    "    pickle.dump(sys.path, f, pickle.HIGHEST_PROTOCOL)"
   ]
  },
  {
   "cell_type": "code",
   "execution_count": 7,
   "metadata": {},
   "outputs": [
    {
     "data": {
      "text/plain": [
       "['c:\\\\users\\\\owner\\\\appdata\\\\local\\\\programs\\\\python\\\\python38-32\\\\python38.zip',\n",
       " 'c:\\\\users\\\\owner\\\\appdata\\\\local\\\\programs\\\\python\\\\python38-32\\\\DLLs',\n",
       " 'c:\\\\users\\\\owner\\\\appdata\\\\local\\\\programs\\\\python\\\\python38-32\\\\lib',\n",
       " 'c:\\\\users\\\\owner\\\\appdata\\\\local\\\\programs\\\\python\\\\python38-32',\n",
       " 'c:\\\\users\\\\owner\\\\appdata\\\\local\\\\programs\\\\python\\\\python38-32\\\\lib\\\\site-packages',\n",
       " 'c:\\\\users\\\\owner\\\\appdata\\\\local\\\\programs\\\\python\\\\python38-32\\\\lib\\\\site-packages\\\\win32',\n",
       " 'c:\\\\users\\\\owner\\\\appdata\\\\local\\\\programs\\\\python\\\\python38-32\\\\lib\\\\site-packages\\\\win32\\\\lib',\n",
       " 'c:\\\\users\\\\owner\\\\appdata\\\\local\\\\programs\\\\python\\\\python38-32\\\\lib\\\\site-packages\\\\Pythonwin']"
      ]
     },
     "execution_count": 7,
     "metadata": {},
     "output_type": "execute_result"
    }
   ],
   "source": [
    "with open('pkl/path.pkl', 'rb') as f:\n",
    "    p = pickle.load(f)\n",
    "    \n",
    "p"
   ]
  }
 ],
 "metadata": {
  "kernelspec": {
   "display_name": "Python 3",
   "language": "python",
   "name": "python3"
  },
  "language_info": {
   "codemirror_mode": {
    "name": "ipython",
    "version": 3
   },
   "file_extension": ".py",
   "mimetype": "text/x-python",
   "name": "python",
   "nbconvert_exporter": "python",
   "pygments_lexer": "ipython3",
   "version": "3.8.3"
  }
 },
 "nbformat": 4,
 "nbformat_minor": 2
}
