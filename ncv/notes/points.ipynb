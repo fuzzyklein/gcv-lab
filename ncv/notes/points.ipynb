{
 "cells": [
  {
   "cell_type": "code",
   "execution_count": 1,
   "metadata": {},
   "outputs": [
    {
     "data": {
      "text/plain": [
       "['__abs__',\n",
       " '__add__',\n",
       " '__class__',\n",
       " '__cmp__',\n",
       " '__contains__',\n",
       " '__delattr__',\n",
       " '__dict__',\n",
       " '__dir__',\n",
       " '__div__',\n",
       " '__doc__',\n",
       " '__eq__',\n",
       " '__format__',\n",
       " '__ge__',\n",
       " '__getattribute__',\n",
       " '__getitem__',\n",
       " '__getnewargs__',\n",
       " '__getstate__',\n",
       " '__gt__',\n",
       " '__hash__',\n",
       " '__init__',\n",
       " '__init_subclass__',\n",
       " '__iter__',\n",
       " '__le__',\n",
       " '__len__',\n",
       " '__lt__',\n",
       " '__module__',\n",
       " '__mul__',\n",
       " '__ne__',\n",
       " '__neg__',\n",
       " '__new__',\n",
       " '__radd__',\n",
       " '__rdiv__',\n",
       " '__reduce__',\n",
       " '__reduce_ex__',\n",
       " '__repr__',\n",
       " '__rmul__',\n",
       " '__rsub__',\n",
       " '__setattr__',\n",
       " '__setstate__',\n",
       " '__sizeof__',\n",
       " '__slots__',\n",
       " '__str__',\n",
       " '__sub__',\n",
       " '__subclasshook__',\n",
       " '__truediv__',\n",
       " '__weakref__',\n",
       " '_args',\n",
       " '_assumptions',\n",
       " '_compare_pretty',\n",
       " '_constructor_postprocessor_mapping',\n",
       " '_eval_rewrite',\n",
       " '_eval_subs',\n",
       " '_exec_constructor_postprocessors',\n",
       " '_explicit_class_assumptions',\n",
       " '_has',\n",
       " '_has_matcher',\n",
       " '_hashable_content',\n",
       " '_mhash',\n",
       " '_normalize_dimension',\n",
       " '_prop_handler',\n",
       " '_recursive_call',\n",
       " '_repr_svg_',\n",
       " '_sorted_args',\n",
       " '_subs',\n",
       " '_svg',\n",
       " '_sympy_',\n",
       " '_xreplace',\n",
       " 'affine_rank',\n",
       " 'ambient_dimension',\n",
       " 'are_coplanar',\n",
       " 'args',\n",
       " 'as_content_primitive',\n",
       " 'as_poly',\n",
       " 'assumptions0',\n",
       " 'atoms',\n",
       " 'bounds',\n",
       " 'canberra_distance',\n",
       " 'canonical_variables',\n",
       " 'class_key',\n",
       " 'compare',\n",
       " 'copy',\n",
       " 'count',\n",
       " 'count_ops',\n",
       " 'default_assumptions',\n",
       " 'distance',\n",
       " 'doit',\n",
       " 'dot',\n",
       " 'dummy_eq',\n",
       " 'encloses',\n",
       " 'equals',\n",
       " 'evalf',\n",
       " 'find',\n",
       " 'free_symbols',\n",
       " 'fromiter',\n",
       " 'func',\n",
       " 'has',\n",
       " 'intersection',\n",
       " 'is_Add',\n",
       " 'is_AlgebraicNumber',\n",
       " 'is_Atom',\n",
       " 'is_Boolean',\n",
       " 'is_Derivative',\n",
       " 'is_Dummy',\n",
       " 'is_Equality',\n",
       " 'is_Float',\n",
       " 'is_Function',\n",
       " 'is_Indexed',\n",
       " 'is_Integer',\n",
       " 'is_Matrix',\n",
       " 'is_Mul',\n",
       " 'is_Not',\n",
       " 'is_Number',\n",
       " 'is_NumberSymbol',\n",
       " 'is_Order',\n",
       " 'is_Piecewise',\n",
       " 'is_Point',\n",
       " 'is_Poly',\n",
       " 'is_Pow',\n",
       " 'is_Rational',\n",
       " 'is_Relational',\n",
       " 'is_Symbol',\n",
       " 'is_Vector',\n",
       " 'is_Wild',\n",
       " 'is_algebraic',\n",
       " 'is_antihermitian',\n",
       " 'is_collinear',\n",
       " 'is_commutative',\n",
       " 'is_comparable',\n",
       " 'is_complex',\n",
       " 'is_composite',\n",
       " 'is_concyclic',\n",
       " 'is_even',\n",
       " 'is_finite',\n",
       " 'is_hermitian',\n",
       " 'is_hypergeometric',\n",
       " 'is_imaginary',\n",
       " 'is_infinite',\n",
       " 'is_integer',\n",
       " 'is_irrational',\n",
       " 'is_negative',\n",
       " 'is_noninteger',\n",
       " 'is_nonnegative',\n",
       " 'is_nonpositive',\n",
       " 'is_nonzero',\n",
       " 'is_number',\n",
       " 'is_odd',\n",
       " 'is_polar',\n",
       " 'is_positive',\n",
       " 'is_prime',\n",
       " 'is_rational',\n",
       " 'is_real',\n",
       " 'is_scalar_multiple',\n",
       " 'is_similar',\n",
       " 'is_symbol',\n",
       " 'is_transcendental',\n",
       " 'is_zero',\n",
       " 'length',\n",
       " 'match',\n",
       " 'matches',\n",
       " 'midpoint',\n",
       " 'n',\n",
       " 'origin',\n",
       " 'orthogonal_direction',\n",
       " 'project',\n",
       " 'rcall',\n",
       " 'reflect',\n",
       " 'replace',\n",
       " 'rewrite',\n",
       " 'rotate',\n",
       " 'scale',\n",
       " 'sort_key',\n",
       " 'subs',\n",
       " 'taxicab_distance',\n",
       " 'translate',\n",
       " 'unit',\n",
       " 'xreplace']"
      ]
     },
     "execution_count": 1,
     "metadata": {},
     "output_type": "execute_result"
    }
   ],
   "source": [
    "import sympy\n",
    "dir(sympy.Point)"
   ]
  },
  {
   "cell_type": "code",
   "execution_count": 3,
   "metadata": {},
   "outputs": [
    {
     "name": "stdout",
     "output_type": "stream",
     "text": [
      "\u001b[0m\u001b[01;34mdata\u001b[0m/  \u001b[01;34metc\u001b[0m/  \u001b[01;34mjson\u001b[0m/  \u001b[01;34mlog\u001b[0m/  \u001b[01;34mncv\u001b[0m/  \u001b[01;34mnotes\u001b[0m/  \u001b[01;32mrun\u001b[0m*  \u001b[01;32msetup.py\u001b[0m*  \u001b[01;32mtest\u001b[0m*  \u001b[01;34mtests\u001b[0m/\r\n"
     ]
    }
   ],
   "source": [
    "ls ../"
   ]
  },
  {
   "cell_type": "code",
   "execution_count": 4,
   "metadata": {},
   "outputs": [],
   "source": [
    "from sympy import Point3D"
   ]
  },
  {
   "cell_type": "code",
   "execution_count": 5,
   "metadata": {},
   "outputs": [],
   "source": [
    "P = Point3D(*[0.0, 0.0, 0.0])"
   ]
  },
  {
   "cell_type": "code",
   "execution_count": 1,
   "metadata": {},
   "outputs": [
    {
     "ename": "NameError",
     "evalue": "name 'P' is not defined",
     "output_type": "error",
     "traceback": [
      "\u001b[0;31m---------------------------------------------------------------------------\u001b[0m",
      "\u001b[0;31mNameError\u001b[0m                                 Traceback (most recent call last)",
      "\u001b[0;32m<ipython-input-1-c7e47e11af57>\u001b[0m in \u001b[0;36m<module>\u001b[0;34m\u001b[0m\n\u001b[0;32m----> 1\u001b[0;31m \u001b[0mP\u001b[0m\u001b[0;34m\u001b[0m\u001b[0;34m\u001b[0m\u001b[0m\n\u001b[0m",
      "\u001b[0;31mNameError\u001b[0m: name 'P' is not defined"
     ]
    }
   ],
   "source": [
    "P"
   ]
  },
  {
   "cell_type": "code",
   "execution_count": 2,
   "metadata": {},
   "outputs": [],
   "source": [
    "from enum import Enum"
   ]
  },
  {
   "cell_type": "code",
   "execution_count": 4,
   "metadata": {},
   "outputs": [
    {
     "data": {
      "text/plain": [
       "['__class__',\n",
       " '__contains__',\n",
       " '__delattr__',\n",
       " '__dir__',\n",
       " '__doc__',\n",
       " '__eq__',\n",
       " '__format__',\n",
       " '__ge__',\n",
       " '__getattribute__',\n",
       " '__getitem__',\n",
       " '__gt__',\n",
       " '__hash__',\n",
       " '__init__',\n",
       " '__init_subclass__',\n",
       " '__iter__',\n",
       " '__le__',\n",
       " '__len__',\n",
       " '__lt__',\n",
       " '__ne__',\n",
       " '__new__',\n",
       " '__reduce__',\n",
       " '__reduce_ex__',\n",
       " '__repr__',\n",
       " '__setattr__',\n",
       " '__sizeof__',\n",
       " '__str__',\n",
       " '__subclasshook__',\n",
       " 'copy',\n",
       " 'get',\n",
       " 'items',\n",
       " 'keys',\n",
       " 'values']"
      ]
     },
     "execution_count": 4,
     "metadata": {},
     "output_type": "execute_result"
    }
   ],
   "source": [
    "dir(Enum.__members__)"
   ]
  }
 ],
 "metadata": {
  "kernelspec": {
   "display_name": "Python 3",
   "language": "python",
   "name": "python3"
  },
  "language_info": {
   "codemirror_mode": {
    "name": "ipython",
    "version": 3
   },
   "file_extension": ".py",
   "mimetype": "text/x-python",
   "name": "python",
   "nbconvert_exporter": "python",
   "pygments_lexer": "ipython3",
   "version": "3.8.0"
  }
 },
 "nbformat": 4,
 "nbformat_minor": 2
}
