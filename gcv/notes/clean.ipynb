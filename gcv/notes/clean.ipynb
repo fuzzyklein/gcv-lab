{
 "cells": [
  {
   "cell_type": "markdown",
   "metadata": {},
   "source": [
    "# Clean the Project Directory"
   ]
  },
  {
   "cell_type": "code",
   "execution_count": 50,
   "metadata": {},
   "outputs": [],
   "source": [
    "import glob\n",
    "import os\n",
    "from pathlib import Path\n",
    "import shutil"
   ]
  },
  {
   "cell_type": "code",
   "execution_count": 42,
   "metadata": {},
   "outputs": [],
   "source": [
    "exec(Path('startup.py').read_text())"
   ]
  },
  {
   "cell_type": "code",
   "execution_count": 25,
   "metadata": {},
   "outputs": [],
   "source": [
    "DEBUG=False\n",
    "VERBOSE=True"
   ]
  },
  {
   "cell_type": "code",
   "execution_count": 51,
   "metadata": {},
   "outputs": [],
   "source": [
    "def clean(d='../', pats=['.ipynb*','__pycache__']):\n",
    "    \"\"\" Clean the working directory or a directory given by d.\n",
    "    \"\"\"\n",
    "    if DEBUG: print(\"debugging clean\")\n",
    "    if VERBOSE: print(\"running `clean` in `VERBOSE` mode\")\n",
    "    for p in pats:\n",
    "        if VERBOSE: print(f\"files matching '{p}':\");print([f for f in Path(d).rglob(p)])\n",
    "        F = [Path(f) for f in Path(d).rglob(p)]\n",
    "        for f in F:\n",
    "            if VERBOSE: print(f\"removing {f}\")\n",
    "            if f.is_dir():\n",
    "                shutil.rmtree(f)\n",
    "            else:\n",
    "                f.unlink()"
   ]
  },
  {
   "cell_type": "code",
   "execution_count": 52,
   "metadata": {},
   "outputs": [
    {
     "name": "stdout",
     "output_type": "stream",
     "text": [
      "running `clean` in `VERBOSE` mode\n",
      "files matching '.ipynb*':\n",
      "[WindowsPath('../.ipynb_checkpoints'), WindowsPath('../gcv/.ipynb_checkpoints'), WindowsPath('../gcv/notes/.ipynb_checkpoints'), WindowsPath('../ncv/notes/.ipynb_checkpoints'), WindowsPath('../notes/.ipynb_checkpoints')]\n",
      "removing ..\\.ipynb_checkpoints\n",
      "removing ..\\gcv\\.ipynb_checkpoints\n",
      "removing ..\\gcv\\notes\\.ipynb_checkpoints\n",
      "removing ..\\ncv\\notes\\.ipynb_checkpoints\n",
      "removing ..\\notes\\.ipynb_checkpoints\n",
      "files matching '__pycache__':\n",
      "[WindowsPath('../ncv/ncv/__pycache__')]\n",
      "removing ..\\ncv\\ncv\\__pycache__\n"
     ]
    }
   ],
   "source": [
    "clean()"
   ]
  },
  {
   "cell_type": "code",
   "execution_count": 14,
   "metadata": {},
   "outputs": [
    {
     "name": "stdout",
     "output_type": "stream",
     "text": [
      "Help on function glob in module pathlib:\n",
      "\n",
      "glob(self, pattern)\n",
      "    Iterate over this subtree and yield all existing files (of any\n",
      "    kind, including directories) matching the given relative pattern.\n",
      "\n"
     ]
    }
   ],
   "source": [
    "help(Path.glob)"
   ]
  },
  {
   "cell_type": "code",
   "execution_count": 17,
   "metadata": {},
   "outputs": [
    {
     "name": "stderr",
     "output_type": "stream",
     "text": [
      "'pwd' is not recognized as an internal or external command,\n",
      "operable program or batch file.\n"
     ]
    }
   ],
   "source": [
    "!pwd"
   ]
  },
  {
   "cell_type": "code",
   "execution_count": 18,
   "metadata": {},
   "outputs": [
    {
     "name": "stderr",
     "output_type": "stream",
     "text": [
      "'cwd' is not recognized as an internal or external command,\n",
      "operable program or batch file.\n"
     ]
    }
   ],
   "source": [
    "!cwd"
   ]
  },
  {
   "cell_type": "code",
   "execution_count": 19,
   "metadata": {},
   "outputs": [
    {
     "data": {
      "text/plain": [
       "WindowsPath('C:/Users/owner/OneDrive/Documents/GitHub/gcv-lab/notes')"
      ]
     },
     "execution_count": 19,
     "metadata": {},
     "output_type": "execute_result"
    }
   ],
   "source": [
    "Path.cwd()"
   ]
  },
  {
   "cell_type": "code",
   "execution_count": 43,
   "metadata": {},
   "outputs": [
    {
     "name": "stdout",
     "output_type": "stream",
     "text": [
      "absolute    group            is_socket   open         resolve     touch      \n",
      "anchor      home             is_symlink  owner        rglob       unlink     \n",
      "as_posix    is_absolute      iterdir     parent       rmdir       with_name  \n",
      "as_uri      is_block_device  joinpath    parents      root        with_suffix\n",
      "chmod       is_char_device   lchmod      parts        samefile    write_bytes\n",
      "cwd         is_dir           link_to     read_bytes   stat        write_text \n",
      "drive       is_fifo          lstat       read_text    stem      \n",
      "exists      is_file          match       relative_to  suffix    \n",
      "expanduser  is_mount         mkdir       rename       suffixes  \n",
      "glob        is_reserved      name        replace      symlink_to\n"
     ]
    }
   ],
   "source": [
    "public(Path)"
   ]
  },
  {
   "cell_type": "code",
   "execution_count": 44,
   "metadata": {},
   "outputs": [
    {
     "name": "stdout",
     "output_type": "stream",
     "text": [
      "Help on function unlink in module pathlib:\n",
      "\n",
      "unlink(self, missing_ok=False)\n",
      "    Remove this file or link.\n",
      "    If the path is a directory, use rmdir() instead.\n",
      "\n"
     ]
    }
   ],
   "source": [
    "help(Path.unlink)"
   ]
  },
  {
   "cell_type": "code",
   "execution_count": null,
   "metadata": {},
   "outputs": [],
   "source": []
  }
 ],
 "metadata": {
  "kernelspec": {
   "display_name": "Python 3",
   "language": "python",
   "name": "python3"
  },
  "language_info": {
   "codemirror_mode": {
    "name": "ipython",
    "version": 3
   },
   "file_extension": ".py",
   "mimetype": "text/x-python",
   "name": "python",
   "nbconvert_exporter": "python",
   "pygments_lexer": "ipython3",
   "version": "3.8.3"
  }
 },
 "nbformat": 4,
 "nbformat_minor": 4
}
