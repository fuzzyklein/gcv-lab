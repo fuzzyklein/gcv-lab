{
 "cells": [
  {
   "cell_type": "markdown",
   "metadata": {},
   "source": [
    "# Clean the Project Directory"
   ]
  },
  {
   "cell_type": "code",
   "execution_count": 1,
   "metadata": {},
   "outputs": [],
   "source": [
    "import glob\n",
    "import os\n",
    "from pathlib import Path\n",
    "import shutil"
   ]
  },
  {
   "cell_type": "code",
   "execution_count": 2,
   "metadata": {},
   "outputs": [],
   "source": [
    "exec(Path('startup.py').read_text())"
   ]
  },
  {
   "cell_type": "code",
   "execution_count": 3,
   "metadata": {},
   "outputs": [],
   "source": [
    "DEBUG=False\n",
    "VERBOSE=True"
   ]
  },
  {
   "cell_type": "code",
   "execution_count": 4,
   "metadata": {},
   "outputs": [],
   "source": [
    "def clean(d='../', pats=['.ipynb*','__pycache__']):\n",
    "    \"\"\" Clean the working directory or a directory given by d.\n",
    "    \"\"\"\n",
    "    if DEBUG: print(\"debugging clean\")\n",
    "    if VERBOSE: print(\"running `clean` in `VERBOSE` mode\")\n",
    "    for p in pats:\n",
    "        F = [Path(f) for f in Path(d).rglob(p)]\n",
    "        if VERBOSE:\n",
    "            print(f\"files matching '{p}':\")\n",
    "            print(F)\n",
    "        for f in F:\n",
    "            if VERBOSE: print(f\"removing {f}\")\n",
    "            if f.is_dir():\n",
    "                shutil.rmtree(f)\n",
    "            else:\n",
    "                f.unlink()"
   ]
  },
  {
   "cell_type": "code",
   "execution_count": 5,
   "metadata": {},
   "outputs": [
    {
     "name": "stdout",
     "output_type": "stream",
     "text": [
      "running `clean` in `VERBOSE` mode\n",
      "files matching '.ipynb*':\n",
      "[WindowsPath('../etc/.ipynb_checkpoints'), WindowsPath('../gcv/.ipynb_checkpoints'), WindowsPath('../notes/.ipynb_checkpoints')]\n",
      "removing ..\\etc\\.ipynb_checkpoints\n",
      "removing ..\\gcv\\.ipynb_checkpoints\n",
      "removing ..\\notes\\.ipynb_checkpoints\n",
      "files matching '__pycache__':\n",
      "[WindowsPath('../gcv/__pycache__')]\n",
      "removing ..\\gcv\\__pycache__\n"
     ]
    }
   ],
   "source": [
    "clean()"
   ]
  }
 ],
 "metadata": {
  "kernelspec": {
   "display_name": "Python 3",
   "language": "python",
   "name": "python3"
  },
  "language_info": {
   "codemirror_mode": {
    "name": "ipython",
    "version": 3
   },
   "file_extension": ".py",
   "mimetype": "text/x-python",
   "name": "python",
   "nbconvert_exporter": "python",
   "pygments_lexer": "ipython3",
   "version": "3.8.3"
  }
 },
 "nbformat": 4,
 "nbformat_minor": 4
}
