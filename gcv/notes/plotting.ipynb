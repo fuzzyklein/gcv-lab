{
 "cells": [
  {
   "cell_type": "markdown",
   "metadata": {},
   "source": [
    "# Plotting"
   ]
  },
  {
   "cell_type": "code",
   "execution_count": 1,
   "metadata": {},
   "outputs": [],
   "source": [
    "from IPython.display import Latex\n",
    "from matplotlib.pyplot import *\n",
    "from numpy import *\n",
    "from sympy import latex, simplify, solve, symbols"
   ]
  },
  {
   "cell_type": "code",
   "execution_count": 2,
   "metadata": {},
   "outputs": [
    {
     "data": {
      "text/latex": [
       "$$\\begin{align}\n",
       "f_1=x^{2}.\n",
       "\\\\f_2=x + 4.\n",
       "\\end{align}$$"
      ],
      "text/plain": [
       "<IPython.core.display.Latex object>"
      ]
     },
     "execution_count": 2,
     "metadata": {},
     "output_type": "execute_result"
    }
   ],
   "source": [
    "x = symbols(\"x\")\n",
    "X = linspace(-4, 4.05, 128)\n",
    "F = [x**2, x + 4]\n",
    "s = r'$$\\begin{align}' + '\\n'\n",
    "for i, f in enumerate(F):\n",
    "    s += f\"f_{i+1}={latex(F[i])}.\" + '\\n' + (r'\\\\' if len(F) > i+1 else r'\\end{align}$$')\n",
    "Latex(s)"
   ]
  },
  {
   "cell_type": "code",
   "execution_count": 6,
   "metadata": {},
   "outputs": [
    {
     "data": {
      "text/latex": [
       "$$S=\\left[ \\frac{1}{2} - \\frac{\\sqrt{17}}{2}, \\  \\frac{1}{2} + \\frac{\\sqrt{17}}{2}\\right].$$"
      ],
      "text/plain": [
       "<IPython.core.display.Latex object>"
      ]
     },
     "execution_count": 6,
     "metadata": {},
     "output_type": "execute_result"
    }
   ],
   "source": [
    "xlabel(\"$x$\")\n",
    "ylabel(\"$y$\")\n",
    "grid(True)\n",
    "axis('equal')\n",
    "axis([-5, 5, 0, 16])\n",
    "axis(False)\n",
    "labels = list()\n",
    "for f in F:\n",
    "    Y = [f.evalf(subs={x:x0}) for x0 in X]\n",
    "    labels.append(f\"${latex(f)}$\")\n",
    "    plot(X,Y)\n",
    "legend(labels=labels)\n",
    "S = solve(F[0]-F[1])\n",
    "for i in range(len(S)):\n",
    "    annotate(rf\"$\\left({latex(S[i])}, {latex(F[i].subs({x:S[i]}))}\\right)$\",\n",
    "             xy=(S[i].evalf(), F[i].evalf(subs={x:S[i]})))\n",
    "Latex(f'$$S={latex(S)}.$$')"
   ]
  },
  {
   "cell_type": "code",
   "execution_count": 7,
   "metadata": {},
   "outputs": [
    {
     "data": {
      "image/png": "[encoded data removed]",
      "text/plain": [
       "<Figure size 432x288 with 1 Axes>"
      ]
     },
     "metadata": {
      "needs_background": "light"
     },
     "output_type": "display_data"
    }
   ],
   "source": [
    "show()"
   ]
  },
  {
   "cell_type": "code",
   "execution_count": 5,
   "metadata": {},
   "outputs": [
    {
     "name": "stdout",
     "output_type": "stream",
     "text": [
      "Help on function axis in module matplotlib.pyplot:\n",
      "\n",
      "axis(*args, emit=True, **kwargs)\n",
      "    Convenience method to get or set some axis properties.\n",
      "    \n",
      "    Call signatures::\n",
      "    \n",
      "      xmin, xmax, ymin, ymax = axis()\n",
      "      xmin, xmax, ymin, ymax = axis([xmin, xmax, ymin, ymax])\n",
      "      xmin, xmax, ymin, ymax = axis(option)\n",
      "      xmin, xmax, ymin, ymax = axis(**kwargs)\n",
      "    \n",
      "    Parameters\n",
      "    ----------\n",
      "    xmin, xmax, ymin, ymax : float, optional\n",
      "        The axis limits to be set.  This can also be achieved using ::\n",
      "    \n",
      "            ax.set(xlim=(xmin, xmax), ylim=(ymin, ymax))\n",
      "    \n",
      "    option : bool or str\n",
      "        If a bool, turns axis lines and labels on or off. If a string,\n",
      "        possible values are:\n",
      "    \n",
      "        ======== ==========================================================\n",
      "        Value    Description\n",
      "        ======== ==========================================================\n",
      "        'on'     Turn on axis lines and labels. Same as ``True``.\n",
      "        'off'    Turn off axis lines and labels. Same as ``False``.\n",
      "        'equal'  Set equal scaling (i.e., make circles circular) by\n",
      "                 changing axis limits. This is the same as\n",
      "                 ``ax.set_aspect('equal', adjustable='datalim')``.\n",
      "                 Explicit data limits may not be respected in this case.\n",
      "        'scaled' Set equal scaling (i.e., make circles circular) by\n",
      "                 changing dimensions of the plot box. This is the same as\n",
      "                 ``ax.set_aspect('equal', adjustable='box', anchor='C')``.\n",
      "                 Additionally, further autoscaling will be disabled.\n",
      "        'tight'  Set limits just large enough to show all data, then\n",
      "                 disable further autoscaling.\n",
      "        'auto'   Automatic scaling (fill plot box with data).\n",
      "        'image'  'scaled' with axis limits equal to data limits.\n",
      "        'square' Square plot; similar to 'scaled', but initially forcing\n",
      "                 ``xmax-xmin == ymax-ymin``.\n",
      "        ======== ==========================================================\n",
      "    \n",
      "    emit : bool, default: True\n",
      "        Whether observers are notified of the axis limit change.\n",
      "        This option is passed on to `~.Axes.set_xlim` and\n",
      "        `~.Axes.set_ylim`.\n",
      "    \n",
      "    Returns\n",
      "    -------\n",
      "    xmin, xmax, ymin, ymax : float\n",
      "        The axis limits.\n",
      "    \n",
      "    See Also\n",
      "    --------\n",
      "    matplotlib.axes.Axes.set_xlim\n",
      "    matplotlib.axes.Axes.set_ylim\n",
      "\n"
     ]
    }
   ],
   "source": [
    "help(axis)"
   ]
  }
 ],
 "metadata": {
  "kernelspec": {
   "display_name": "Python 3",
   "language": "python",
   "name": "python3"
  },
  "language_info": {
   "codemirror_mode": {
    "name": "ipython",
    "version": 3
   },
   "file_extension": ".py",
   "mimetype": "text/x-python",
   "name": "python",
   "nbconvert_exporter": "python",
   "pygments_lexer": "ipython3",
   "version": "3.8.3"
  }
 },
 "nbformat": 4,
 "nbformat_minor": 4
}
