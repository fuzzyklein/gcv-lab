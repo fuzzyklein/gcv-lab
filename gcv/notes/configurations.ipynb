{
 "cells": [
  {
   "cell_type": "code",
   "execution_count": 1,
   "metadata": {},
   "outputs": [
    {
     "name": "stdout",
     "output_type": "stream",
     "text": [
      "Help on function mkdir in module pathlib:\n",
      "\n",
      "mkdir(self, mode=511, parents=False, exist_ok=False)\n",
      "    Create a new directory at this given path.\n",
      "\n"
     ]
    }
   ],
   "source": [
    "from pathlib import Path\n",
    "help(Path.mkdir)"
   ]
  },
  {
   "cell_type": "code",
   "execution_count": 2,
   "metadata": {},
   "outputs": [],
   "source": [
    "from configparser import ConfigParser"
   ]
  },
  {
   "cell_type": "code",
   "execution_count": 3,
   "metadata": {},
   "outputs": [
    {
     "name": "stdout",
     "output_type": "stream",
     "text": [
      " Volume in drive C has no label.\n",
      " Volume Serial Number is 8A3F-F6F5\n",
      "\n",
      " Directory of C:\\Users\\owner\\OneDrive\\Documents\\GitHub\\gcv-lab\\gcv\\notes\n",
      "\n",
      "08/09/2020  12:44 PM    <DIR>          .\n",
      "08/09/2020  12:44 PM    <DIR>          ..\n",
      "08/09/2020  12:44 PM    <DIR>          .ipynb_checkpoints\n",
      "08/09/2020  10:19 AM             5,958 clean.ipynb\n",
      "08/09/2020  12:44 PM             1,016 configurations.ipynb\n",
      "08/09/2020  11:27 AM             1,377 pickler.ipynb\n",
      "08/09/2020  05:20 AM               291 startup.py\n",
      "08/09/2020  02:27 AM               768 todo.ipynb\n",
      "08/09/2020  12:15 PM             1,016 Untitled.ipynb\n",
      "08/09/2020  03:59 AM             5,864 validation.ipynb\n",
      "08/05/2020  03:52 AM               972 worksheet.ipynb\n",
      "               8 File(s)         17,262 bytes\n",
      "               3 Dir(s)  892,677,718,016 bytes free\n"
     ]
    }
   ],
   "source": [
    "! dir"
   ]
  },
  {
   "cell_type": "code",
   "execution_count": 4,
   "metadata": {},
   "outputs": [],
   "source": [
    "import os"
   ]
  },
  {
   "cell_type": "code",
   "execution_count": 5,
   "metadata": {},
   "outputs": [],
   "source": [
    "os.chdir('../')"
   ]
  },
  {
   "cell_type": "code",
   "execution_count": 6,
   "metadata": {},
   "outputs": [
    {
     "data": {
      "text/plain": [
       "'.'"
      ]
     },
     "execution_count": 6,
     "metadata": {},
     "output_type": "execute_result"
    }
   ],
   "source": [
    "os.curdir"
   ]
  },
  {
   "cell_type": "code",
   "execution_count": 7,
   "metadata": {},
   "outputs": [
    {
     "name": "stdout",
     "output_type": "stream",
     "text": [
      " Volume in drive C has no label.\n",
      " Volume Serial Number is 8A3F-F6F5\n",
      "\n",
      " Directory of C:\\Users\\owner\\OneDrive\\Documents\\GitHub\\gcv-lab\\gcv\n",
      "\n",
      "08/09/2020  12:24 PM    <DIR>          .\n",
      "08/09/2020  12:24 PM    <DIR>          ..\n",
      "08/09/2020  11:38 AM    <DIR>          etc\n",
      "08/09/2020  11:35 AM    <DIR>          gcv\n",
      "08/09/2020  12:43 PM               147 gopts.pkl\n",
      "08/09/2020  12:16 PM    <DIR>          log\n",
      "08/09/2020  12:44 PM    <DIR>          notes\n",
      "08/08/2020  07:21 PM               768 Untitled.ipynb\n",
      "               2 File(s)            915 bytes\n",
      "               6 Dir(s)  892,677,636,096 bytes free\n"
     ]
    }
   ],
   "source": [
    "! dir"
   ]
  },
  {
   "cell_type": "code",
   "execution_count": 8,
   "metadata": {},
   "outputs": [],
   "source": [
    "BASEDIR = Path(os.curdir)"
   ]
  },
  {
   "cell_type": "code",
   "execution_count": 9,
   "metadata": {},
   "outputs": [],
   "source": [
    "CONFIG_DIR = BASEDIR / 'etc'\n",
    "if CONFIG_DIR.exists():\n",
    "    CONFIG = ConfigParser()\n",
    "    CONFIG.read(CONFIG_DIR.rglob('*.ini'))\n"
   ]
  },
  {
   "cell_type": "code",
   "execution_count": 11,
   "metadata": {},
   "outputs": [
    {
     "data": {
      "text/plain": [
       "['BOOLEAN_STATES',\n",
       " 'NONSPACECRE',\n",
       " 'OPTCRE',\n",
       " 'OPTCRE_NV',\n",
       " 'SECTCRE',\n",
       " 'add_section',\n",
       " 'clear',\n",
       " 'converters',\n",
       " 'default_section',\n",
       " 'defaults',\n",
       " 'get',\n",
       " 'getboolean',\n",
       " 'getfloat',\n",
       " 'getint',\n",
       " 'has_option',\n",
       " 'has_section',\n",
       " 'items',\n",
       " 'keys',\n",
       " 'options',\n",
       " 'optionxform',\n",
       " 'pop',\n",
       " 'popitem',\n",
       " 'read',\n",
       " 'read_dict',\n",
       " 'read_file',\n",
       " 'read_string',\n",
       " 'readfp',\n",
       " 'remove_option',\n",
       " 'remove_section',\n",
       " 'sections',\n",
       " 'set',\n",
       " 'setdefault',\n",
       " 'update',\n",
       " 'values',\n",
       " 'write']"
      ]
     },
     "execution_count": 11,
     "metadata": {},
     "output_type": "execute_result"
    }
   ],
   "source": [
    "[s for s in dir(CONFIG) if not s.startswith('_')]"
   ]
  },
  {
   "cell_type": "code",
   "execution_count": 12,
   "metadata": {},
   "outputs": [
    {
     "data": {
      "text/plain": [
       "KeysView(<configparser.ConfigParser object at 0x066AF520>)"
      ]
     },
     "execution_count": 12,
     "metadata": {},
     "output_type": "execute_result"
    }
   ],
   "source": [
    "CONFIG.keys()"
   ]
  },
  {
   "cell_type": "code",
   "execution_count": 13,
   "metadata": {},
   "outputs": [
    {
     "data": {
      "text/plain": [
       "['DEFAULT', 'ARGUMENTS', 'ENVIRONMENT', 'PROGRAM']"
      ]
     },
     "execution_count": 13,
     "metadata": {},
     "output_type": "execute_result"
    }
   ],
   "source": [
    "[s for s in CONFIG.keys()]"
   ]
  },
  {
   "cell_type": "code",
   "execution_count": 14,
   "metadata": {},
   "outputs": [
    {
     "data": {
      "text/plain": [
       "['program', 'version', 'packages_dir', 'gcode_dir']"
      ]
     },
     "execution_count": 14,
     "metadata": {},
     "output_type": "execute_result"
    }
   ],
   "source": [
    "[s for s in CONFIG['DEFAULT'].keys()]"
   ]
  },
  {
   "cell_type": "code",
   "execution_count": null,
   "metadata": {},
   "outputs": [],
   "source": []
  }
 ],
 "metadata": {
  "kernelspec": {
   "display_name": "Python 3",
   "language": "python",
   "name": "python3"
  },
  "language_info": {
   "codemirror_mode": {
    "name": "ipython",
    "version": 3
   },
   "file_extension": ".py",
   "mimetype": "text/x-python",
   "name": "python",
   "nbconvert_exporter": "python",
   "pygments_lexer": "ipython3",
   "version": "3.8.3"
  }
 },
 "nbformat": 4,
 "nbformat_minor": 4
}
