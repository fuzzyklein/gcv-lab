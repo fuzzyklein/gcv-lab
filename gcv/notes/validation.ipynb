{
 "cells": [
  {
   "cell_type": "markdown",
   "metadata": {},
   "source": [
    "# Validation"
   ]
  },
  {
   "cell_type": "code",
   "execution_count": 2,
   "metadata": {},
   "outputs": [
    {
     "name": "stdout",
     "output_type": "stream",
     "text": [
      "Help on built-in function reduce in module _functools:\n",
      "\n",
      "reduce(...)\n",
      "    reduce(function, sequence[, initial]) -> value\n",
      "    \n",
      "    Apply a function of two arguments cumulatively to the items of a sequence,\n",
      "    from left to right, so as to reduce the sequence to a single value.\n",
      "    For example, reduce(lambda x, y: x+y, [1, 2, 3, 4, 5]) calculates\n",
      "    ((((1+2)+3)+4)+5).  If initial is present, it is placed before the items\n",
      "    of the sequence in the calculation, and serves as a default when the\n",
      "    sequence is empty.\n",
      "\n"
     ]
    }
   ],
   "source": [
    "from functools import reduce\n",
    "help(reduce)"
   ]
  },
  {
   "cell_type": "code",
   "execution_count": 3,
   "metadata": {},
   "outputs": [
    {
     "ename": "ValueError",
     "evalue": "could not convert string to float: 'fred'",
     "output_type": "error",
     "traceback": [
      "\u001b[1;31m---------------------------------------------------------------------------\u001b[0m",
      "\u001b[1;31mValueError\u001b[0m                                Traceback (most recent call last)",
      "\u001b[1;32m<ipython-input-3-cd8ce8f8334a>\u001b[0m in \u001b[0;36m<module>\u001b[1;34m\u001b[0m\n\u001b[1;32m----> 1\u001b[1;33m \u001b[0mfloat\u001b[0m\u001b[1;33m(\u001b[0m\u001b[1;34m\"fred\"\u001b[0m\u001b[1;33m)\u001b[0m\u001b[1;33m\u001b[0m\u001b[1;33m\u001b[0m\u001b[0m\n\u001b[0m",
      "\u001b[1;31mValueError\u001b[0m: could not convert string to float: 'fred'"
     ]
    }
   ],
   "source": [
    "float(\"fred\")"
   ]
  },
  {
   "cell_type": "code",
   "execution_count": null,
   "metadata": {},
   "outputs": [],
   "source": [
    "(NCViewer): fred                                                                                                        Traceback (most recent call last):                                                                                        File \"C:\\Users\\owner\\AppData\\Local\\Programs\\Python\\Python38-32\\lib\\cmd.py\", line 214, in onecmd                           func = getattr(self, 'do_' + cmd)                                                                                   AttributeError: 'NCViewer' object has no attribute 'do_fred'                                                                                                                                                                                    During handling of the above exception, another exception occurred:                                                                                                                                                                             Traceback (most recent call last):                                                                                        File \"C:\\Users\\owner\\AppData\\Local\\Programs\\Python\\Python38-32\\lib\\runpy.py\", line 194, in _run_module_as_main            return _run_code(code, main_globals, None,                                                                            File \"C:\\Users\\owner\\AppData\\Local\\Programs\\Python\\Python38-32\\lib\\runpy.py\", line 87, in _run_code                       exec(code, run_globals)                                                                                               File \"C:\\Users\\owner\\OneDrive\\Documents\\GitHub\\gcv-lab\\ncv\\ncv\\__main__.py\", line 96, in <module>                         main()                                                                                                                File \"C:\\Users\\owner\\OneDrive\\Documents\\GitHub\\gcv-lab\\ncv\\ncv\\__main__.py\", line 88, in main                             NCViewer(SETTINGS).run()                                                                                              File \"C:\\Users\\owner\\OneDrive\\Documents\\GitHub\\gcv-lab\\ncv\\ncv\\ncviewer.py\", line 148, in run                             self.cmdloop()                                                                                                        File \"C:\\Users\\owner\\AppData\\Local\\Programs\\Python\\Python38-32\\lib\\cmd.py\", line 138, in cmdloop                          stop = self.onecmd(line)                                                                                              File \"C:\\Users\\owner\\AppData\\Local\\Programs\\Python\\Python38-32\\lib\\cmd.py\", line 216, in onecmd                           return self.default(line)                                                                                             File \"C:\\Users\\owner\\OneDrive\\Documents\\GitHub\\gcv-lab\\ncv\\ncv\\ncviewer.py\", line 168, in default                         super.default(args)                                                                                                 AttributeError: type object 'super' has no attribute 'default'                                                                                                                                                                                  C:\\Users\\owner\\OneDrive\\Documents\\GitHub\\gcv-lab\\ncv> "
   ]
  }
 ],
 "metadata": {
  "kernelspec": {
   "display_name": "Python 3",
   "language": "python",
   "name": "python3"
  },
  "language_info": {
   "codemirror_mode": {
    "name": "ipython",
    "version": 3
   },
   "file_extension": ".py",
   "mimetype": "text/x-python",
   "name": "python",
   "nbconvert_exporter": "python",
   "pygments_lexer": "ipython3",
   "version": "3.8.3"
  }
 },
 "nbformat": 4,
 "nbformat_minor": 4
}
